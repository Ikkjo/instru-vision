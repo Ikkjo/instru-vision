{
 "cells": [
  {
   "cell_type": "code",
   "execution_count": null,
   "metadata": {},
   "outputs": [],
   "source": [
    "import os\n",
    "import sys\n",
    "module_path = os.path.abspath(os.path.join('utils'))\n",
    "if module_path not in sys.path:\n",
    "    sys.path.append(module_path)"
   ]
  },
  {
   "cell_type": "code",
   "execution_count": null,
   "metadata": {},
   "outputs": [],
   "source": [
    "import tensorflow as tf\n",
    "from tensorflow import keras\n",
    "from keras import callbacks\n",
    "import utils.data_utils as data_utils\n",
    "from utils.models import dcnn_model, mobilenetv3_model, compile_model\n",
    "import numpy as np\n",
    "from sklearn.model_selection import KFold\n",
    "import time\n",
    "\n",
    "tf.get_logger().setLevel('ERROR')"
   ]
  },
  {
   "cell_type": "code",
   "execution_count": null,
   "metadata": {},
   "outputs": [],
   "source": [
    "BASE_LEARNING_RATE = .0001\n",
    "EPOCHS = 150\n",
    "INSTRU_VISION_CNN = f\"instru-vision-cnn-{int(time.time())}\"\n",
    "MOBILENETV3_FINE_TUNED = f\"mobilenetv3-fine-tuned-{int(time.time())}\"\n",
    "EARLY_STOPPING = callbacks.EarlyStopping(monitor = \"val_loss\",\n",
    "                            mode = \"min\",\n",
    "                            min_delta = .01,\n",
    "                            patience = 15,\n",
    "                            restore_best_weights = True)\n",
    "\n",
    "DCNN_CALLBACKS = [\n",
    "    callbacks.CSVLogger(\n",
    "        \"../models/instru-vision-cnn/csv/training_history.csv\",\n",
    "        \",\",\n",
    "        append=False),\n",
    "    callbacks.TensorBoard(log_dir=f\"../models/logs/{INSTRU_VISION_CNN}\"),\n",
    "    callbacks.ModelCheckpoint(\n",
    "    filepath=\"../models/instru-vision-cnn/saved_model/\",\n",
    "    monitor=\"val_loss\",\n",
    "    verbose=1,\n",
    "    save_best_only=True,\n",
    "    initial_value_threshold=0.9),\n",
    "    EARLY_STOPPING\n",
    "    ]\n",
    "\n",
    "PRETRAINED_CALLBACKS = [\n",
    "    callbacks.CSVLogger(\n",
    "        \"../models/mobilenetv3/csv/training_history.csv\",\n",
    "        \",\",\n",
    "        append=False),\n",
    "    callbacks.TensorBoard(log_dir=f\"../models/logs/{MOBILENETV3_FINE_TUNED}\"),\n",
    "    callbacks.ModelCheckpoint(\n",
    "    filepath=\"../models/mobilenetv3/saved_model/\",\n",
    "    monitor=\"val_loss\",\n",
    "    verbose=1,\n",
    "    save_best_only=True,\n",
    "    initial_value_threshold=0.6)\n",
    "]"
   ]
  },
  {
   "attachments": {},
   "cell_type": "markdown",
   "metadata": {},
   "source": [
    "# Dataset loading"
   ]
  },
  {
   "cell_type": "code",
   "execution_count": null,
   "metadata": {},
   "outputs": [],
   "source": [
    "training_dataset, validation_dataset = data_utils.get_datasets()"
   ]
  },
  {
   "cell_type": "markdown",
   "metadata": {},
   "source": [
    "# Manual implementation based on GoogleNet architecture, not pretrained"
   ]
  },
  {
   "cell_type": "code",
   "execution_count": null,
   "metadata": {},
   "outputs": [],
   "source": [
    "\n",
    "dcnn_model = dcnn_model()\n",
    "dcnn_model.summary()\n",
    "compile_model(dcnn_model)\n",
    "initial_dcnn_weights = dcnn_model.get_weights()"
   ]
  },
  {
   "cell_type": "markdown",
   "metadata": {},
   "source": [
    "\n",
    "# Tensorflow MobileNetV3 Large\n"
   ]
  },
  {
   "cell_type": "code",
   "execution_count": null,
   "metadata": {},
   "outputs": [],
   "source": [
    "pretrained_model = mobilenetv3_model()\n",
    "pretrained_model.summary()\n",
    "compile_model(pretrained_model)\n",
    "initial_pretrained_weights = pretrained_model.get_weights()"
   ]
  },
  {
   "cell_type": "code",
   "execution_count": null,
   "metadata": {},
   "outputs": [],
   "source": [
    "\n",
    "training_set = training_dataset.unbatch()\n",
    "images = np.asarray(list(training_set.map(lambda x, y: x)))\n",
    "labels = np.asarray(list(training_set.map(lambda x, y: y)))\n",
    "\n",
    "kfold = KFold(n_splits=5, shuffle=True, random_state=42)\n",
    "\n",
    "fold = 0\n",
    "dcnn_cross_validation_history = []\n",
    "pretrained_cross_validation_history = []\n",
    "\n",
    "for train, validation in kfold.split(images, labels):\n",
    "\n",
    "    fold += 1\n",
    "\n",
    "    print(f\"Starting {fold}. fold...\")\n",
    "\n",
    "    train_folds = (images[train], labels[train])\n",
    "    validation_fold = (images[validation], labels[validation])\n",
    "    \n",
    "    dcnn_model.set_weights(initial_dcnn_weights)\n",
    "    pretrained_model.set_weights(initial_pretrained_weights)\n",
    "\n",
    "    dcnn_history = dcnn_model.fit(train_folds[0], train_folds[1], validation_data=validation_fold,\n",
    "              verbose=0, epochs=EPOCHS, callbacks=DCNN_CALLBACKS)\n",
    "\n",
    "    pretrained_history = pretrained_model.fit(train_folds[0], train_folds[1], validation_data=validation_fold,\n",
    "              verbose=0, epochs=EPOCHS, callbacks=PRETRAINED_CALLBACKS)\n",
    "\n",
    "    dcnn_val_loss = dcnn_history.history['val_loss']\n",
    "    dcnn_val_accuracy = dcnn_history.history['val_accuracy']\n",
    "\n",
    "    pretrained_val_loss = pretrained_history.history['val_loss']\n",
    "    pretrained_val_accuracy = pretrained_history.history['val_accuracy']\n",
    "\n",
    "    print(f\"Fold {fold} Instru-vision-cnn score:\\n\\tval accuracy: {dcnn_val_accuracy[-1]}\\n\\tval loss: {dcnn_val_loss[-1]} \")\n",
    "    print(f\"Fold {fold} MobileNetV3 score:\\n\\tval accuracy: {pretrained_val_accuracy[-1]}\\n\\tval loss: {pretrained_val_loss[-1]} \")\n",
    "\n",
    "    dcnn_model.save_weights(f\"../models/instru-vision-cnn/k-fold/fold{fold}_weights.hdf5\")\n",
    "    pretrained_model.save_weights(f\"../models/mobilenetv3/k-fold/fold{fold}_weights.hdf5\")\n",
    "    \n",
    "    dcnn_cross_validation_history.append(dcnn_history.history)\n",
    "    pretrained_cross_validation_history.append(pretrained_history.history)"
   ]
  },
  {
   "cell_type": "code",
   "execution_count": null,
   "metadata": {},
   "outputs": [],
   "source": [
    "data_utils.compare_and_display_model_results({\n",
    "    \"Instru-vision-cnn Fold 1\": dcnn_cross_validation_history[0],\n",
    "    \"MobileNetV3 Fold 1\": pretrained_cross_validation_history[0],\n",
    "    \"Instru-vision-cnn Fold 2\": dcnn_cross_validation_history[1],\n",
    "    \"MobileNetV3 Fold 2\": pretrained_cross_validation_history[1],\n",
    "    \"Instru-vision-cnn Fold 3\": dcnn_cross_validation_history[2],\n",
    "    \"MobileNetV3 Fold 3\": pretrained_cross_validation_history[2],\n",
    "    \"Instru-vision-cnn Fold 4\": dcnn_cross_validation_history[3],\n",
    "    \"MobileNetV3 Fold 4\": pretrained_cross_validation_history[3],\n",
    "    \"Instru-vision-cnn Fold 5\": dcnn_cross_validation_history[4],\n",
    "    \"MobileNetV3 Fold 5\": pretrained_cross_validation_history[4],\n",
    "})"
   ]
  }
 ],
 "metadata": {
  "kernelspec": {
   "display_name": "Python 3",
   "language": "python",
   "name": "python3"
  },
  "language_info": {
   "codemirror_mode": {
    "name": "ipython",
    "version": 3
   },
   "file_extension": ".py",
   "mimetype": "text/x-python",
   "name": "python",
   "nbconvert_exporter": "python",
   "pygments_lexer": "ipython3",
   "version": "3.10.9"
  },
  "orig_nbformat": 4,
  "vscode": {
   "interpreter": {
    "hash": "3bf999c01e6a4c4ef3ad59e2236d4221ab70733ff5529039d06ad9b96b6028d8"
   }
  }
 },
 "nbformat": 4,
 "nbformat_minor": 2
}
